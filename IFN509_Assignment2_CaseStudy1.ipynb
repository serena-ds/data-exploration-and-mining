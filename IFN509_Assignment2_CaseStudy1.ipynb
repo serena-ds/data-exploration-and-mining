{
 "cells": [
  {
   "cell_type": "code",
   "execution_count": 1,
   "metadata": {},
   "outputs": [
    {
     "name": "stdout",
     "output_type": "stream",
     "text": [
      "<class 'pandas.core.frame.DataFrame'>\n",
      "Int64Index: 19065 entries, 0 to 19662\n",
      "Data columns (total 8 columns):\n",
      "InvoiceNo      19065 non-null object\n",
      "StockCode      19065 non-null object\n",
      "Description    19065 non-null object\n",
      "Quantity       19065 non-null int64\n",
      "InvoiceDate    19065 non-null datetime64[ns]\n",
      "UnitPrice      19065 non-null float64\n",
      "CustomerID     15668 non-null object\n",
      "Country        19065 non-null object\n",
      "dtypes: datetime64[ns](1), float64(1), int64(1), object(5)\n",
      "memory usage: 1.3+ MB\n",
      "None\n"
     ]
    }
   ],
   "source": [
    "import numpy as np\n",
    "import pandas as pd\n",
    "import matplotlib.pyplot as plt\n",
    "import seaborn as sns\n",
    "\n",
    "# load the dataset\n",
    "df = pd.read_csv('D1.csv')\n",
    "\n",
    "# correct data type for InvoiceNo and CustomerID\n",
    "df['InvoiceNo'] = df['InvoiceNo'].astype(str)\n",
    "df['CustomerID'] = df['CustomerID'].astype(str)\n",
    "df['InvoiceDate'] = pd.to_datetime(df['InvoiceDate'], format = '%d/%m/%Y %H:%M', box = False)\n",
    "\n",
    "#cleaning missing data\n",
    "df = df.replace('nan', np.NaN)\n",
    "df.isnull().sum()\n",
    "\n",
    "mask = pd.isnull(df['Description'])\n",
    "df = df[~mask]\n",
    "\n",
    "df = df.drop(df[df['Quantity'] > 1000].index)\n",
    "df = df.drop(df[df['Quantity'] == 0].index)\n",
    "\n",
    "transactions = df.groupby(['InvoiceNo'])['Description'].apply(list)\n",
    "\n",
    "print(df.info())"
   ]
  },
  {
   "cell_type": "code",
   "execution_count": 2,
   "metadata": {},
   "outputs": [
    {
     "name": "stdout",
     "output_type": "stream",
     "text": [
      "InvoiceNo\n",
      "536365                 [WHITE HANGING HEART T-LIGHT HOLDER]\n",
      "536367                      [ASSORTED COLOUR BIRD ORNAMENT]\n",
      "536373                 [WHITE HANGING HEART T-LIGHT HOLDER]\n",
      "536375                 [WHITE HANGING HEART T-LIGHT HOLDER]\n",
      "536378    [JUMBO BAG PINK POLKADOT, LUNCH BAG RED RETROS...\n",
      "Name: Description, dtype: object\n"
     ]
    }
   ],
   "source": [
    "print(transactions.head(5))"
   ]
  },
  {
   "cell_type": "code",
   "execution_count": 3,
   "metadata": {},
   "outputs": [
    {
     "name": "stdout",
     "output_type": "stream",
     "text": [
      "[RelationRecord(items=frozenset({'ASSORTED COLOUR BIRD ORNAMENT'}), support=0.15195565781217318, ordered_statistics=[OrderedStatistic(items_base=frozenset(), items_add=frozenset({'ASSORTED COLOUR BIRD ORNAMENT'}), confidence=0.15195565781217318, lift=1.0)]), RelationRecord(items=frozenset({'HEART OF WICKER SMALL'}), support=0.12549675800041832, ordered_statistics=[OrderedStatistic(items_base=frozenset(), items_add=frozenset({'HEART OF WICKER SMALL'}), confidence=0.12549675800041832, lift=1.0)]), RelationRecord(items=frozenset({'JUMBO BAG PINK POLKADOT'}), support=0.1273792093704246, ordered_statistics=[OrderedStatistic(items_base=frozenset(), items_add=frozenset({'JUMBO BAG PINK POLKADOT'}), confidence=0.1273792093704246, lift=1.0)]), RelationRecord(items=frozenset({'JUMBO BAG RED RETROSPOT'}), support=0.21867810081572892, ordered_statistics=[OrderedStatistic(items_base=frozenset(), items_add=frozenset({'JUMBO BAG RED RETROSPOT'}), confidence=0.21867810081572892, lift=1.0)]), RelationRecord(items=frozenset({'LUNCH BAG  BLACK SKULL.'}), support=0.13313114411211044, ordered_statistics=[OrderedStatistic(items_base=frozenset(), items_add=frozenset({'LUNCH BAG  BLACK SKULL.'}), confidence=0.13313114411211044, lift=1.0)])]\n"
     ]
    }
   ],
   "source": [
    "#start association mining\n",
    "from apyori import apriori\n",
    "\n",
    "transaction_list = list(transactions)\n",
    "results = list(apriori(transaction_list, min_support = 0.02))\n",
    "\n",
    "print(results[:5])"
   ]
  },
  {
   "cell_type": "code",
   "execution_count": 4,
   "metadata": {},
   "outputs": [
    {
     "name": "stdout",
     "output_type": "stream",
     "text": [
      "==> RULES WITH HIGHEST LIFT VALUES\n",
      "                                           Left_side               Right_side  \\\n",
      "170  JUMBO BAG RED RETROSPOT,LUNCH BAG  BLACK SKULL.  LUNCH BAG RED RETROSPOT   \n",
      "164  JUMBO BAG PINK POLKADOT,LUNCH BAG RED RETROSPOT  JUMBO BAG RED RETROSPOT   \n",
      "\n",
      "      Support  Confidence      Lift  \n",
      "170  0.024576    0.625000  3.821132  \n",
      "164  0.026041    0.770898  3.525263  \n",
      "\n",
      "==> RULES WITH LOWEST LIFT VALUES\n",
      "                           Left_side                          Right_side  \\\n",
      "94           LUNCH BAG  BLACK SKULL.  WHITE HANGING HEART T-LIGHT HOLDER   \n",
      "139  PACK OF 72 RETROSPOT CAKE CASES  WHITE HANGING HEART T-LIGHT HOLDER   \n",
      "\n",
      "      Support  Confidence      Lift  \n",
      "94   0.027505    0.206599  0.875275  \n",
      "139  0.028132    0.204252  0.865334  \n",
      "\n",
      "==> RULES WITH HIGHEST CONFIDENCE VALUE\n",
      "                                           Left_side               Right_side  \\\n",
      "164  JUMBO BAG PINK POLKADOT,LUNCH BAG RED RETROSPOT  JUMBO BAG RED RETROSPOT   \n",
      "43                           JUMBO BAG PINK POLKADOT  JUMBO BAG RED RETROSPOT   \n",
      "\n",
      "      Support  Confidence      Lift  \n",
      "164  0.026041    0.770898  3.525263  \n",
      "43   0.086174    0.676519  3.093675  \n"
     ]
    }
   ],
   "source": [
    "def convert_apriori_results_to_pandas_df(results):\n",
    "    rules = []\n",
    "    for rule_set in results:\n",
    "        for rule in rule_set.ordered_statistics:\n",
    "            # items_base = left side of rules, items_add = right side\n",
    "            # support, confidence and lift for respective rules\n",
    "            rules.append([','.join(rule.items_base), ','.join(rule.items_add),\n",
    "                rule_set.support, rule.confidence, rule.lift])\n",
    "    # typecast it to pandas df\n",
    "    return pd.DataFrame(rules, columns=['Left_side', 'Right_side', 'Support','Confidence', 'Lift'])\n",
    "result_df = convert_apriori_results_to_pandas_df(results)\n",
    "result_df = result_df.sort_values(by='Lift', ascending=False)\n",
    "\n",
    "#setting min_confidence\n",
    "confidence_filter = result_df[result_df['Confidence'] > 0.2 ]\n",
    "#printing out top 5 interesting rules\n",
    "print(\"==> RULES WITH HIGHEST LIFT VALUES\")\n",
    "print(confidence_filter.head(2))\n",
    "print(\"\\n==> RULES WITH LOWEST LIFT VALUES\")\n",
    "print(confidence_filter.tail(2))\n",
    "print(\"\\n==> RULES WITH HIGHEST CONFIDENCE VALUE\")\n",
    "confidence_filter = confidence_filter.sort_values(by='Confidence', ascending=False)\n",
    "print(confidence_filter.head(2))"
   ]
  },
  {
   "cell_type": "code",
   "execution_count": 5,
   "metadata": {},
   "outputs": [
    {
     "name": "stdout",
     "output_type": "stream",
     "text": [
      "                   Left_side                                       Right_side  \\\n",
      "43   JUMBO BAG PINK POLKADOT                          JUMBO BAG RED RETROSPOT   \n",
      "49   JUMBO BAG PINK POLKADOT                          LUNCH BAG RED RETROSPOT   \n",
      "55   JUMBO BAG PINK POLKADOT               WHITE HANGING HEART T-LIGHT HOLDER   \n",
      "46   JUMBO BAG PINK POLKADOT                          LUNCH BAG  BLACK SKULL.   \n",
      "160  JUMBO BAG PINK POLKADOT  JUMBO BAG RED RETROSPOT,LUNCH BAG RED RETROSPOT   \n",
      "\n",
      "      Support  Confidence      Lift  \n",
      "43   0.086174    0.676519  3.093675  \n",
      "49   0.033780    0.265189  1.621314  \n",
      "55   0.026877    0.211002  0.893929  \n",
      "46   0.026773    0.210181  1.578749  \n",
      "160  0.026041    0.204433  3.376154  \n"
     ]
    }
   ],
   "source": [
    "JUMBO_BAG_PINK_POLKADOT = confidence_filter[confidence_filter['Left_side'] == 'JUMBO BAG PINK POLKADOT' ]\n",
    "print(JUMBO_BAG_PINK_POLKADOT)"
   ]
  },
  {
   "cell_type": "code",
   "execution_count": 6,
   "metadata": {},
   "outputs": [
    {
     "name": "stdout",
     "output_type": "stream",
     "text": [
      "<class 'pandas.core.frame.DataFrame'>\n",
      "Int64Index: 173 entries, 170 to 74\n",
      "Data columns (total 5 columns):\n",
      "Left_side     173 non-null object\n",
      "Right_side    173 non-null object\n",
      "Support       173 non-null float64\n",
      "Confidence    173 non-null float64\n",
      "Lift          173 non-null float64\n",
      "dtypes: float64(3), object(2)\n",
      "memory usage: 8.1+ KB\n",
      "None\n",
      "-------------\n"
     ]
    },
    {
     "name": "stderr",
     "output_type": "stream",
     "text": [
      "C:\\Users\\htdat\\Anaconda3\\lib\\site-packages\\seaborn\\_decorators.py:43: FutureWarning: Pass the following variables as keyword args: x, y. From version 0.12, the only valid positional argument will be `data`, and passing other arguments without an explicit keyword will result in an error or misinterpretation.\n",
      "  FutureWarning\n"
     ]
    },
    {
     "data": {
      "image/png": "[encoded data removed]",
      "text/plain": [
       "<Figure size 432x288 with 1 Axes>"
      ]
     },
     "metadata": {
      "needs_background": "light"
     },
     "output_type": "display_data"
    }
   ],
   "source": [
    "print(result_df.info())\n",
    "print('-------------')\n",
    "ax = sns.scatterplot(result_df['Support'], result_df['Confidence'], alpha=0.4, marker='*')\n",
    "plt.xlabel('Support')\n",
    "plt.ylabel('Confidence')\n",
    "plt.title('Association rules')\n",
    "plt.show()"
   ]
  },
  {
   "cell_type": "code",
   "execution_count": 7,
   "metadata": {},
   "outputs": [],
   "source": [
    "from collections import defaultdict\n",
    "import subprocess\n",
    "import re\n",
    "\n",
    "''' Uses SPMF to find association rules in supplied transactions '''\n",
    "def get_association_rules(sequences, min_sup, min_conf):\n",
    "    # step 1: create required input for SPMF\n",
    "    \n",
    "    # prepare a dict to uniquely assign each item in the transactions to an int ID\n",
    "    item_dict = defaultdict(int)\n",
    "    output_dict = defaultdict(str)\n",
    "    item_id = 1\n",
    "    \n",
    "    # write your sequences in SPMF format\n",
    "    with open('seq_rule_input.txt', 'w+') as f:\n",
    "        for sequence in sequences:\n",
    "            z = []\n",
    "            for itemset in sequence:\n",
    "                # if there are multiple items in one itemset\n",
    "                if isinstance(itemset, list):\n",
    "                    for item in itemset:\n",
    "                        if item not in item_dict:\n",
    "                            item_dict[item] = item_id\n",
    "                            item_id += 1\n",
    "\n",
    "                        z.append(item_dict[item])\n",
    "                else:\n",
    "                    if itemset not in item_dict:\n",
    "                        item_dict[itemset] = item_id\n",
    "                        output_dict[str(item_id)] = itemset\n",
    "                        item_id += 1\n",
    "                    z.append(item_dict[itemset])\n",
    "                    \n",
    "                # end of itemset\n",
    "                z.append(-1)\n",
    "            \n",
    "            # end of a sequence\n",
    "            z.append(-2)\n",
    "            f.write(' '.join([str(x) for x in z]))\n",
    "            f.write('\\n')\n",
    "    \n",
    "    # run SPMF with supplied parameters\n",
    "    supp_param = '{}%'.format(int(min_sup * 100))\n",
    "    conf_param = '{}%'.format(int(min_conf * 100))\n",
    "    subprocess.call(['java', '-jar', 'spmf.jar', 'run', 'RuleGrowth', \n",
    "                     'seq_rule_input.txt', 'seq_rule_output.txt', \n",
    "                     supp_param, conf_param], shell=True)\n",
    "    \n",
    "    # read back the output rules\n",
    "    outputs = open('seq_rule_output.txt', 'r').read().strip().split('\\n')\n",
    "    output_rules = []\n",
    "    for rule in outputs:\n",
    "        left, right, sup, conf = re.search(pattern=r'([0-9\\,]+) ==> ([0-9\\,]+) #SUP: ([0-9]+) #CONF: ([0-9\\.]+)', string=rule).groups()\n",
    "        sup = int(sup) / len(sequences)\n",
    "        conf = float(conf)\n",
    "        output_rules.append([[output_dict[x] for x in left.split(',')], [output_dict[x] for x in right.split(',')], sup, conf, conf/sup])\n",
    "    \n",
    "    # return pandas DataFrame\n",
    "    return pd.DataFrame(output_rules, columns = ['Left_rule', 'Right_rule', 'Support', 'Confidence', 'Lift'])"
   ]
  },
  {
   "cell_type": "code",
   "execution_count": 8,
   "metadata": {
    "scrolled": true
   },
   "outputs": [
    {
     "name": "stdout",
     "output_type": "stream",
     "text": [
      "CustomerID  InvoiceNo\n",
      "12347.0     542237                              [REGENCY CAKESTAND 3 TIER]\n",
      "            549222                              [REGENCY CAKESTAND 3 TIER]\n",
      "            562032                              [REGENCY CAKESTAND 3 TIER]\n",
      "            573511                              [REGENCY CAKESTAND 3 TIER]\n",
      "12349.0     577609       [SET OF 3 CAKE TINS PANTRY DESIGN , REGENCY CA...\n",
      "12352.0     544156                              [REGENCY CAKESTAND 3 TIER]\n",
      "            567505       [SET OF 3 CAKE TINS PANTRY DESIGN , REGENCY CA...\n",
      "            568699                     [SET OF 3 CAKE TINS PANTRY DESIGN ]\n",
      "12354.0     550911                               [LUNCH BAG RED RETROSPOT]\n",
      "12355.0     552449                              [REGENCY CAKESTAND 3 TIER]\n",
      "Name: Description, dtype: object\n"
     ]
    }
   ],
   "source": [
    "#task 4\n",
    "#group transaction by CustomerID and InvoiceNo\n",
    "transactions = df.groupby(['CustomerID','InvoiceNo'])['Description'].apply(list)\n",
    "print (transactions.head(10))"
   ]
  },
  {
   "cell_type": "code",
   "execution_count": 9,
   "metadata": {},
   "outputs": [
    {
     "name": "stdout",
     "output_type": "stream",
     "text": [
      "[['REGENCY CAKESTAND 3 TIER'], ['REGENCY CAKESTAND 3 TIER'], ['REGENCY CAKESTAND 3 TIER'], ['REGENCY CAKESTAND 3 TIER'], ['SET OF 3 CAKE TINS PANTRY DESIGN ', 'REGENCY CAKESTAND 3 TIER'], ['REGENCY CAKESTAND 3 TIER'], ['SET OF 3 CAKE TINS PANTRY DESIGN ', 'REGENCY CAKESTAND 3 TIER'], ['SET OF 3 CAKE TINS PANTRY DESIGN '], ['LUNCH BAG RED RETROSPOT'], ['REGENCY CAKESTAND 3 TIER'], ['REGENCY CAKESTAND 3 TIER'], ['PACK OF 72 RETROSPOT CAKE CASES', 'REGENCY CAKESTAND 3 TIER'], ['REGENCY CAKESTAND 3 TIER'], ['REGENCY CAKESTAND 3 TIER'], ['SET OF 3 CAKE TINS PANTRY DESIGN ', 'REGENCY CAKESTAND 3 TIER'], ['PARTY BUNTING'], ['REGENCY CAKESTAND 3 TIER'], ['REGENCY CAKESTAND 3 TIER', 'SET OF 3 CAKE TINS PANTRY DESIGN ', 'JUMBO BAG RED RETROSPOT', 'REGENCY CAKESTAND 3 TIER', 'REGENCY CAKESTAND 3 TIER'], ['LUNCH BAG RED RETROSPOT'], ['LUNCH BAG RED RETROSPOT']]\n"
     ]
    }
   ],
   "source": [
    "#transform into sequence\n",
    "sequences = transactions.values.tolist()\n",
    "\n",
    "# show the first 5 sequences\n",
    "print(sequences[:20])"
   ]
  },
  {
   "cell_type": "code",
   "execution_count": 15,
   "metadata": {
    "scrolled": true
   },
   "outputs": [
    {
     "data": {
      "text/html": [
       "<div>\n",
       "<style scoped>\n",
       "    .dataframe tbody tr th:only-of-type {\n",
       "        vertical-align: middle;\n",
       "    }\n",
       "\n",
       "    .dataframe tbody tr th {\n",
       "        vertical-align: top;\n",
       "    }\n",
       "\n",
       "    .dataframe thead th {\n",
       "        text-align: right;\n",
       "    }\n",
       "</style>\n",
       "<table border=\"1\" class=\"dataframe\">\n",
       "  <thead>\n",
       "    <tr style=\"text-align: right;\">\n",
       "      <th></th>\n",
       "      <th>Left_rule</th>\n",
       "      <th>Right_rule</th>\n",
       "      <th>Support</th>\n",
       "      <th>Confidence</th>\n",
       "      <th>Lift</th>\n",
       "    </tr>\n",
       "  </thead>\n",
       "  <tbody>\n",
       "    <tr>\n",
       "      <th>0</th>\n",
       "      <td>[LUNCH BAG RED RETROSPOT]</td>\n",
       "      <td>[JUMBO BAG RED RETROSPOT]</td>\n",
       "      <td>0.023739</td>\n",
       "      <td>0.160714</td>\n",
       "      <td>6.770186</td>\n",
       "    </tr>\n",
       "    <tr>\n",
       "      <th>1</th>\n",
       "      <td>[JUMBO BAG RED RETROSPOT]</td>\n",
       "      <td>[LUNCH BAG RED RETROSPOT]</td>\n",
       "      <td>0.025229</td>\n",
       "      <td>0.137586</td>\n",
       "      <td>5.453408</td>\n",
       "    </tr>\n",
       "    <tr>\n",
       "      <th>2</th>\n",
       "      <td>[LUNCH BAG RED RETROSPOT]</td>\n",
       "      <td>[LUNCH BAG  BLACK SKULL.]</td>\n",
       "      <td>0.034174</td>\n",
       "      <td>0.231366</td>\n",
       "      <td>6.770186</td>\n",
       "    </tr>\n",
       "    <tr>\n",
       "      <th>3</th>\n",
       "      <td>[LUNCH BAG  BLACK SKULL.]</td>\n",
       "      <td>[LUNCH BAG RED RETROSPOT]</td>\n",
       "      <td>0.027867</td>\n",
       "      <td>0.230989</td>\n",
       "      <td>8.288973</td>\n",
       "    </tr>\n",
       "    <tr>\n",
       "      <th>4</th>\n",
       "      <td>[JUMBO BAG RED RETROSPOT]</td>\n",
       "      <td>[JUMBO BAG PINK POLKADOT]</td>\n",
       "      <td>0.029243</td>\n",
       "      <td>0.159475</td>\n",
       "      <td>5.453408</td>\n",
       "    </tr>\n",
       "    <tr>\n",
       "      <th>5</th>\n",
       "      <td>[JUMBO BAG PINK POLKADOT]</td>\n",
       "      <td>[JUMBO BAG RED RETROSPOT]</td>\n",
       "      <td>0.034862</td>\n",
       "      <td>0.349024</td>\n",
       "      <td>10.011481</td>\n",
       "    </tr>\n",
       "  </tbody>\n",
       "</table>\n",
       "</div>"
      ],
      "text/plain": [
       "                   Left_rule                 Right_rule   Support  Confidence  \\\n",
       "0  [LUNCH BAG RED RETROSPOT]  [JUMBO BAG RED RETROSPOT]  0.023739    0.160714   \n",
       "1  [JUMBO BAG RED RETROSPOT]  [LUNCH BAG RED RETROSPOT]  0.025229    0.137586   \n",
       "2  [LUNCH BAG RED RETROSPOT]  [LUNCH BAG  BLACK SKULL.]  0.034174    0.231366   \n",
       "3  [LUNCH BAG  BLACK SKULL.]  [LUNCH BAG RED RETROSPOT]  0.027867    0.230989   \n",
       "4  [JUMBO BAG RED RETROSPOT]  [JUMBO BAG PINK POLKADOT]  0.029243    0.159475   \n",
       "5  [JUMBO BAG PINK POLKADOT]  [JUMBO BAG RED RETROSPOT]  0.034862    0.349024   \n",
       "\n",
       "        Lift  \n",
       "0   6.770186  \n",
       "1   5.453408  \n",
       "2   6.770186  \n",
       "3   8.288973  \n",
       "4   5.453408  \n",
       "5  10.011481  "
      ]
     },
     "execution_count": 15,
     "metadata": {},
     "output_type": "execute_result"
    }
   ],
   "source": [
    "get_association_rules(sequences, 0.02, 0.1)"
   ]
  },
  {
   "cell_type": "code",
   "execution_count": null,
   "metadata": {},
   "outputs": [],
   "source": []
  }
 ],
 "metadata": {
  "kernelspec": {
   "display_name": "Python 3",
   "language": "python",
   "name": "python3"
  },
  "language_info": {
   "codemirror_mode": {
    "name": "ipython",
    "version": 3
   },
   "file_extension": ".py",
   "mimetype": "text/x-python",
   "name": "python",
   "nbconvert_exporter": "python",
   "pygments_lexer": "ipython3",
   "version": "3.7.16"
  }
 },
 "nbformat": 4,
 "nbformat_minor": 2
}
